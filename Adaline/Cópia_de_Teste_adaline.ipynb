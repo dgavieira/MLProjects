{
  "nbformat": 4,
  "nbformat_minor": 0,
  "metadata": {
    "colab": {
      "name": "Cópia de Teste_adaline.ipynb",
      "provenance": [],
      "collapsed_sections": []
    },
    "kernelspec": {
      "name": "python3",
      "display_name": "Python 3"
    }
  },
  "cells": [
    {
      "cell_type": "markdown",
      "metadata": {
        "id": "P06dx2n5qx6B"
      },
      "source": [
        "# Notebook Summary\n",
        "\n",
        "\n",
        "1.   Library importing\n",
        "2.   Uploading the database to a Pandas dataframe\n",
        "3.   Training Method of the Adaline Class\n",
        "4.   Showing that the Problem is suitable for a Linear Classifier\n",
        "5.   Plotting the Mean Square Error updates\n",
        "6.   Plotting the Hyperplan Function separating the classes\n",
        "\n"
      ]
    },
    {
      "cell_type": "markdown",
      "metadata": {
        "id": "LdwwsKaFyuQs"
      },
      "source": [
        "# The Adaline Algorithm Class"
      ]
    },
    {
      "cell_type": "markdown",
      "metadata": {
        "id": "9avhjrYTyyQ0"
      },
      "source": [
        "# Importing Libraries"
      ]
    },
    {
      "cell_type": "code",
      "metadata": {
        "id": "OrGqoqZkwwIw"
      },
      "source": [
        "import numpy as np\n",
        "import pandas as pd\n",
        "import matplotlib.pyplot as plt\n",
        "from matplotlib.colors import ListedColormap\n",
        "%matplotlib inline"
      ],
      "execution_count": null,
      "outputs": []
    },
    {
      "cell_type": "markdown",
      "metadata": {
        "id": "00YS4smoy1Od"
      },
      "source": [
        "> parsing the IRIS database to a Pandas Dataframe"
      ]
    },
    {
      "cell_type": "code",
      "metadata": {
        "id": "b6tB_HBZsU2X",
        "colab": {
          "base_uri": "https://localhost:8080/",
          "height": 204
        },
        "outputId": "fb3b092e-7983-4f34-d697-171db8a5dd72"
      },
      "source": [
        "s = 'https://archive.ics.uci.edu/ml/machine-learning-databases/iris/iris.data'\n",
        "#print('URL:', s)\n",
        "\n",
        "df = pd.read_csv(s,\n",
        "                 header=None,\n",
        "                 encoding='utf-8') # Dataframe\n",
        "\n",
        "df.head()"
      ],
      "execution_count": null,
      "outputs": [
        {
          "output_type": "execute_result",
          "data": {
            "text/html": [
              "<div>\n",
              "<style scoped>\n",
              "    .dataframe tbody tr th:only-of-type {\n",
              "        vertical-align: middle;\n",
              "    }\n",
              "\n",
              "    .dataframe tbody tr th {\n",
              "        vertical-align: top;\n",
              "    }\n",
              "\n",
              "    .dataframe thead th {\n",
              "        text-align: right;\n",
              "    }\n",
              "</style>\n",
              "<table border=\"1\" class=\"dataframe\">\n",
              "  <thead>\n",
              "    <tr style=\"text-align: right;\">\n",
              "      <th></th>\n",
              "      <th>0</th>\n",
              "      <th>1</th>\n",
              "      <th>2</th>\n",
              "      <th>3</th>\n",
              "      <th>4</th>\n",
              "    </tr>\n",
              "  </thead>\n",
              "  <tbody>\n",
              "    <tr>\n",
              "      <th>0</th>\n",
              "      <td>5.1</td>\n",
              "      <td>3.5</td>\n",
              "      <td>1.4</td>\n",
              "      <td>0.2</td>\n",
              "      <td>Iris-setosa</td>\n",
              "    </tr>\n",
              "    <tr>\n",
              "      <th>1</th>\n",
              "      <td>4.9</td>\n",
              "      <td>3.0</td>\n",
              "      <td>1.4</td>\n",
              "      <td>0.2</td>\n",
              "      <td>Iris-setosa</td>\n",
              "    </tr>\n",
              "    <tr>\n",
              "      <th>2</th>\n",
              "      <td>4.7</td>\n",
              "      <td>3.2</td>\n",
              "      <td>1.3</td>\n",
              "      <td>0.2</td>\n",
              "      <td>Iris-setosa</td>\n",
              "    </tr>\n",
              "    <tr>\n",
              "      <th>3</th>\n",
              "      <td>4.6</td>\n",
              "      <td>3.1</td>\n",
              "      <td>1.5</td>\n",
              "      <td>0.2</td>\n",
              "      <td>Iris-setosa</td>\n",
              "    </tr>\n",
              "    <tr>\n",
              "      <th>4</th>\n",
              "      <td>5.0</td>\n",
              "      <td>3.6</td>\n",
              "      <td>1.4</td>\n",
              "      <td>0.2</td>\n",
              "      <td>Iris-setosa</td>\n",
              "    </tr>\n",
              "  </tbody>\n",
              "</table>\n",
              "</div>"
            ],
            "text/plain": [
              "     0    1    2    3            4\n",
              "0  5.1  3.5  1.4  0.2  Iris-setosa\n",
              "1  4.9  3.0  1.4  0.2  Iris-setosa\n",
              "2  4.7  3.2  1.3  0.2  Iris-setosa\n",
              "3  4.6  3.1  1.5  0.2  Iris-setosa\n",
              "4  5.0  3.6  1.4  0.2  Iris-setosa"
            ]
          },
          "metadata": {
            "tags": []
          },
          "execution_count": 11
        }
      ]
    },
    {
      "cell_type": "markdown",
      "metadata": {
        "id": "uOQlh0xZzfx3"
      },
      "source": [
        "# The Adaline Class\n",
        "\n",
        "> Structurally, the adaline class is identical as the Perceptron, considering the same parameters. The main difference between them is the learning rule, which we tackle a few snippets below."
      ]
    },
    {
      "cell_type": "code",
      "metadata": {
        "id": "8etZUfRntDb8"
      },
      "source": [
        "class Adaline (object):\n",
        "  # Design Pattern indications for ML class\n",
        "  \"\"\" Adaline classifier\n",
        "\n",
        "  Parameters\n",
        "  -------------\n",
        "  eta: float\n",
        "    Learning rate (between 0. to 1.)\n",
        "  n_epochs: int\n",
        "    Number of epochs\n",
        "  random_state: int\n",
        "    Number for randomic weight generation\n",
        "  \n",
        "  Attributes\n",
        "  --------------\n",
        "  errors_: list\n",
        "    Number of misclassifications in each iteration\n",
        "  w_: {array-like}\n",
        "    Weights after model fitting\n",
        "  b_: {array-like}\n",
        "    Bias after model fitting\n",
        "\n",
        "  \"\"\"\n",
        "  #constructor of the Perceptron class\n",
        "  \n",
        "  def __init__(self, eta = 0.1, n_epochs = 100, random_state = 5):\n",
        "    self.eta = eta*0.001\n",
        "    self.n_epochs = n_epochs\n",
        "    self.random_state = random_state\n",
        "    \n",
        "  def fit(self, X, y):\n",
        "    rgen = np.random.RandomState(self.random_state)\n",
        "    self.w_ = rgen.normal(loc = 0.0, scale = 0.01, size = X.shape[1] + 1)\n",
        "    self.cost = []\n",
        "  \n",
        "  #Adaline Learning Rules\n",
        "    for i in range(0, self.n_epochs):\n",
        "      errors = 0\n",
        "      z = np.dot(X, self.w_[1:]) + self.w_[0]\n",
        "      errors_ =  y - z\n",
        "      self.w_[1:] += self.eta * np.dot(X.transpose(), errors_)\n",
        "      self.w_[0] += self.eta* sum(errors_)\n",
        "      errors = sum(errors_ ** 2)  #implementing the mean quadratic error\n",
        "      self.cost.append(errors)\n",
        "    return self   "
      ],
      "execution_count": null,
      "outputs": []
    },
    {
      "cell_type": "markdown",
      "metadata": {
        "id": "z3-zEgxXp-dZ"
      },
      "source": [
        "# Plotting the Data\n"
      ]
    },
    {
      "cell_type": "code",
      "metadata": {
        "id": "5YJJJ1_u6a0a",
        "colab": {
          "base_uri": "https://localhost:8080/",
          "height": 279
        },
        "outputId": "2df31230-c978-4581-ae91-e4c458049d4e"
      },
      "source": [
        "# plot data\n",
        "\n",
        "y = df.iloc[0:100, 4].values\n",
        "y = np.where(y == 'Iris-setosa', -1, 1)\n",
        "\n",
        "# extract sepal length and petal length\n",
        "X = df.iloc[0:100, [0, 2]].values\n",
        "\n",
        "\n",
        "plt.scatter(X[:50, 0], X[:50, 1],\n",
        "            color='red', marker='o', label='setosa')\n",
        "plt.scatter(X[50:100, 0], X[50:100, 1],\n",
        "            color='blue', marker='x', label='versicolor')\n",
        "x1 = np.linspace(X[:,0].min(), X[:,0].max())\n",
        "\n",
        "ppn = Adaline(eta = 0.1, n_epochs=100, random_state=5)\n",
        "\n",
        "ppn.fit(X,y)\n",
        "\n",
        "x1 = np.linspace(X[:,0].min(), X[:,0].max())\n",
        "\n",
        "#x2 = (-w[0]*x1 - b)/w[1]\n",
        "\n",
        "plt.xlabel('sepal length [cm]')\n",
        "plt.ylabel('petal length [cm]')\n",
        "plt.legend(loc='upper left')\n",
        "\n",
        "# plt.savefig('images/02_06.png', dpi=300)\n",
        "plt.show()"
      ],
      "execution_count": null,
      "outputs": [
        {
          "output_type": "display_data",
          "data": {
            "image/png": "[encoded data removed]",
            "text/plain": [
              "<Figure size 432x288 with 1 Axes>"
            ]
          },
          "metadata": {
            "tags": [],
            "needs_background": "light"
          }
        }
      ]
    },
    {
      "cell_type": "markdown",
      "metadata": {
        "id": "cJNO5PeNZ_iL"
      },
      "source": [
        "# Observations regarding the plot above\n",
        "\n",
        "\n",
        "> As we can see, the IRIS database can be classified by a Linear Classifier. We applied the scatterplot method from the matplotlib library to show the spatial\n",
        "distribution of the data\n",
        "\n"
      ]
    },
    {
      "cell_type": "markdown",
      "metadata": {
        "id": "Uin5c-y9uYSp"
      },
      "source": [
        "# Code snippet below\n",
        "\n",
        "\n",
        "> This code snippet below applies the Perceptron class to the given parameters: epochs, random state, neurons. \n",
        "> The parameters are explained by the design pattern snippet on the Perceptron class description\n",
        "> The matplotlib plot show how many iterations the perceptron takes to converge based on the IRIS database and the given parameters\n"
      ]
    },
    {
      "cell_type": "code",
      "metadata": {
        "id": "gD_7RngHnInC",
        "colab": {
          "base_uri": "https://localhost:8080/",
          "height": 388
        },
        "outputId": "a5e781de-4bb7-4b6a-9dc3-a76245677ff0"
      },
      "source": [
        "\n",
        "#evokes the Adaline class parsing the following parameters\n",
        "ppn = Adaline(eta=0.1, n_epochs=300, random_state=14)\n",
        "#run the fit method from the adaline class\n",
        "\n",
        "ppn.fit(X, y)\n",
        "\n",
        "plt.plot(range(1, len(ppn.cost) + 1), ppn.cost, marker='o')\n",
        "plt.xlabel('Epochs')\n",
        "plt.ylabel('Number of updates')\n",
        "# plt.savefig('images/02_07.png', dpi=300)\n",
        "plt.rcParams[\"figure.figsize\"] = [6,6]\n",
        "plt.show()"
      ],
      "execution_count": null,
      "outputs": [
        {
          "output_type": "display_data",
          "data": {
            "image/png": "[encoded data removed]",
            "text/plain": [
              "<Figure size 432x432 with 1 Axes>"
            ]
          },
          "metadata": {
            "tags": [],
            "needs_background": "light"
          }
        }
      ]
    },
    {
      "cell_type": "markdown",
      "metadata": {
        "id": "fuKui9eX4HNb"
      },
      "source": [
        "> The plot above shows the Mean Square Error update per iteration"
      ]
    },
    {
      "cell_type": "markdown",
      "metadata": {
        "id": "FTZlNKJo4OM7"
      },
      "source": [
        "#Showing the Hyperplan separating the both classes\n",
        "\n",
        "> "
      ]
    },
    {
      "cell_type": "code",
      "metadata": {
        "id": "TC19t3A_oQSZ",
        "colab": {
          "base_uri": "https://localhost:8080/",
          "height": 388
        },
        "outputId": "b187781b-9e97-423c-f82f-c0cb6f30f2d8"
      },
      "source": [
        "# plot data\n",
        "plt.scatter(X[:50, 0], X[:50, 1],\n",
        "            color='red', marker='o', label='setosa')\n",
        "plt.scatter(X[50:100, 0], X[50:100, 1],\n",
        "            color='blue', marker='x', label='versicolor')\n",
        "x1 = np.linspace(X[:,0].min(), X[:,0].max())\n",
        "\n",
        "ppn = Adaline(eta = 0.001, n_epochs=3000, random_state=2)\n",
        "\n",
        "ppn.fit(X,y)\n",
        "\n",
        "x1 = np.linspace(X[:,0].min(), X[:,0].max())\n",
        "\n",
        "#x2 = (-w[0]*x1 - b)/w[1]\n",
        "\n",
        "x2 = (-ppn.w_[1]*x1 - ppn.w_[0])/ppn.w_[2]\n",
        "\n",
        "plt.plot(x1, x2, color='green')\n",
        "\n",
        "plt.xlabel('sepal length [cm]')\n",
        "plt.ylabel('petal length [cm]')\n",
        "plt.legend(loc='upper left')\n",
        "\n",
        "# plt.savefig('images/02_06.png', dpi=300)\n",
        "plt.show()"
      ],
      "execution_count": null,
      "outputs": [
        {
          "output_type": "display_data",
          "data": {
            "image/png": "[encoded data removed]",
            "text/plain": [
              "<Figure size 432x432 with 1 Axes>"
            ]
          },
          "metadata": {
            "tags": [],
            "needs_background": "light"
          }
        }
      ]
    }
  ]
}