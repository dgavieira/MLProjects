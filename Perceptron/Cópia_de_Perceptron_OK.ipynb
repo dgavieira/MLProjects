{
  "nbformat": 4,
  "nbformat_minor": 0,
  "metadata": {
    "colab": {
      "name": "Cópia de Perceptron_OK.ipynb",
      "provenance": [],
      "collapsed_sections": []
    },
    "kernelspec": {
      "name": "python3",
      "display_name": "Python 3"
    }
  },
  "cells": [
    {
      "cell_type": "markdown",
      "metadata": {
        "id": "jgC2lwU7xOk-"
      },
      "source": [
        "# Notebook Summary\n",
        "\n",
        "\n",
        "1.   Library importing\n",
        "2.   Uploading the database to a Pandas dataframe\n",
        "3.   Training Method of the Perceptron Class\n",
        "4.   Showing that the Problem is suitable for a Linear Classifier\n",
        "5.   Epoch/Erros Convergence Plot\n",
        "6.   Plotting the Hyperplan Function separating the classes\n",
        "\n",
        "\n"
      ]
    },
    {
      "cell_type": "markdown",
      "metadata": {
        "id": "nyd7981Ex6aR"
      },
      "source": [
        "# Observation\n",
        "The Learning rate refines the result. It takes longer to converge. However, it gives a straight cleaner, centralized, better rating."
      ]
    },
    {
      "cell_type": "markdown",
      "metadata": {
        "id": "YDVbm5VMu7Pa"
      },
      "source": [
        "# Importing the libraries"
      ]
    },
    {
      "cell_type": "code",
      "metadata": {
        "id": "aopAv6vFzKll"
      },
      "source": [
        "import numpy as np\n",
        "import pandas as pd\n",
        "import matplotlib.pyplot as plt\n",
        "from matplotlib.colors import ListedColormap\n",
        "%matplotlib inline"
      ],
      "execution_count": null,
      "outputs": []
    },
    {
      "cell_type": "markdown",
      "metadata": {
        "id": "s86Zl8vAu_-6"
      },
      "source": [
        "# Uploading the IRIS database to a Pandas Dataframe![texto alternativo](https://)"
      ]
    },
    {
      "cell_type": "code",
      "metadata": {
        "id": "4zrHVdFIpb1P",
        "colab": {
          "base_uri": "https://localhost:8080/",
          "height": 204
        },
        "outputId": "650e9e24-9797-4ab1-8b28-9ce9a445d553"
      },
      "source": [
        "s = 'https://archive.ics.uci.edu/ml/machine-learning-databases/iris/iris.data'\n",
        "#print('URL:', s)\n",
        "\n",
        "df = pd.read_csv(s,\n",
        "                 header=None,\n",
        "                 encoding='utf-8') # Dataframe\n",
        "\n",
        "df.head()"
      ],
      "execution_count": null,
      "outputs": [
        {
          "output_type": "execute_result",
          "data": {
            "text/html": [
              "<div>\n",
              "<style scoped>\n",
              "    .dataframe tbody tr th:only-of-type {\n",
              "        vertical-align: middle;\n",
              "    }\n",
              "\n",
              "    .dataframe tbody tr th {\n",
              "        vertical-align: top;\n",
              "    }\n",
              "\n",
              "    .dataframe thead th {\n",
              "        text-align: right;\n",
              "    }\n",
              "</style>\n",
              "<table border=\"1\" class=\"dataframe\">\n",
              "  <thead>\n",
              "    <tr style=\"text-align: right;\">\n",
              "      <th></th>\n",
              "      <th>0</th>\n",
              "      <th>1</th>\n",
              "      <th>2</th>\n",
              "      <th>3</th>\n",
              "      <th>4</th>\n",
              "    </tr>\n",
              "  </thead>\n",
              "  <tbody>\n",
              "    <tr>\n",
              "      <th>0</th>\n",
              "      <td>5.1</td>\n",
              "      <td>3.5</td>\n",
              "      <td>1.4</td>\n",
              "      <td>0.2</td>\n",
              "      <td>Iris-setosa</td>\n",
              "    </tr>\n",
              "    <tr>\n",
              "      <th>1</th>\n",
              "      <td>4.9</td>\n",
              "      <td>3.0</td>\n",
              "      <td>1.4</td>\n",
              "      <td>0.2</td>\n",
              "      <td>Iris-setosa</td>\n",
              "    </tr>\n",
              "    <tr>\n",
              "      <th>2</th>\n",
              "      <td>4.7</td>\n",
              "      <td>3.2</td>\n",
              "      <td>1.3</td>\n",
              "      <td>0.2</td>\n",
              "      <td>Iris-setosa</td>\n",
              "    </tr>\n",
              "    <tr>\n",
              "      <th>3</th>\n",
              "      <td>4.6</td>\n",
              "      <td>3.1</td>\n",
              "      <td>1.5</td>\n",
              "      <td>0.2</td>\n",
              "      <td>Iris-setosa</td>\n",
              "    </tr>\n",
              "    <tr>\n",
              "      <th>4</th>\n",
              "      <td>5.0</td>\n",
              "      <td>3.6</td>\n",
              "      <td>1.4</td>\n",
              "      <td>0.2</td>\n",
              "      <td>Iris-setosa</td>\n",
              "    </tr>\n",
              "  </tbody>\n",
              "</table>\n",
              "</div>"
            ],
            "text/plain": [
              "     0    1    2    3            4\n",
              "0  5.1  3.5  1.4  0.2  Iris-setosa\n",
              "1  4.9  3.0  1.4  0.2  Iris-setosa\n",
              "2  4.7  3.2  1.3  0.2  Iris-setosa\n",
              "3  4.6  3.1  1.5  0.2  Iris-setosa\n",
              "4  5.0  3.6  1.4  0.2  Iris-setosa"
            ]
          },
          "metadata": {
            "tags": []
          },
          "execution_count": 3
        }
      ]
    },
    {
      "cell_type": "markdown",
      "metadata": {
        "id": "NyxqBvmrwrml"
      },
      "source": [
        "# Perceptron Class"
      ]
    },
    {
      "cell_type": "code",
      "metadata": {
        "id": "7qe_uF-vpeBB"
      },
      "source": [
        "class Perceptron (object):\n",
        "  # Design Pattern indications for ML class\n",
        "  \"\"\" Perceptron classifier\n",
        "\n",
        "  Parameters\n",
        "  -------------\n",
        "  eta: float\n",
        "    Learning rate (between 0. to 1.)\n",
        "  n_epochs: int\n",
        "    Number of epochs\n",
        "  random_state: int\n",
        "    Number for randomic weight generation\n",
        "  \n",
        "  Attributes\n",
        "  --------------\n",
        "  errors_: list\n",
        "    Number of misclassifications in each iteration\n",
        "  w_: {array-like}\n",
        "    Weights after model fitting\n",
        "  b_: {array-like}\n",
        "    Bias after model fitting\n",
        "\n",
        "  \"\"\"\n",
        "  #constructor of the Perceptron class\n",
        "  def __init__(self, eta = 0.1, n_epochs = 100, random_state = 2, neurons = 1):\n",
        "    self.eta = eta\n",
        "    self.n_epochs = n_epochs\n",
        "    self.random_state = random_state\n",
        "    self.neurons = neurons\n",
        "  \n",
        "  def fit(self, X, y):\n",
        "    \"\"\" Model fitting with our training data\n",
        "\n",
        "    Parameters\n",
        "    ------------\n",
        "    X: {array-like} (Matrix), shape = [n_examples, n_features]\n",
        "      Features matrix \n",
        "    y: {array-like} (Colum vector), shape = [n_labels, 1]\n",
        "      targets\n",
        "    \n",
        "    Return \n",
        "    ----------\n",
        "    self: object\n",
        "\n",
        "    \"\"\"\n",
        "    rgen = np.random.RandomState(self.random_state)\n",
        "    self.w_ = rgen.normal(loc = 0.0, scale = 0.01, size = self.neurons*(X.shape[1]))\n",
        "    self.b_ = rgen.normal(loc = 0.0, scale = 0.01, size = self.neurons)\n",
        "    self.errors_ = []\n",
        "\n",
        "    for i in range(0, self.n_epochs):\n",
        "      errors = 0\n",
        "      for n in range(0,self.neurons):\n",
        "        for xi, target in zip(X,y):\n",
        "          z = np.dot(xi, self.w_[n*X.shape[1]:n*X.shape[1] + X.shape[1] ]) + self.b_[n:n+1]\n",
        "          y_pred = np.where(z>= 0, 1, -1) # hardlims function if z>=0 the y_pred will be 1 if z<0 the y_pred will be -1\n",
        "          if (self.neurons>1):\n",
        "            update = self.eta*(target[n] - y_pred)\n",
        "          else:\n",
        "            \tupdate = self.eta*(target - y_pred) # Perceptron rule by Rosenblatt\n",
        "          self.w_[n:n+X.shape[1]] += update*xi\n",
        "          self.b_[n:n+1] += update\n",
        "          errors += int (update != 0.0)\n",
        "      self.errors_.append(errors)\n",
        "\n",
        "    return self   "
      ],
      "execution_count": null,
      "outputs": []
    },
    {
      "cell_type": "markdown",
      "metadata": {
        "id": "956QmpFgZ6XF"
      },
      "source": [
        "# Plotting the Data"
      ]
    },
    {
      "cell_type": "code",
      "metadata": {
        "id": "QK5s-VWRqSgO",
        "colab": {
          "base_uri": "https://localhost:8080/",
          "height": 279
        },
        "outputId": "befa3ecd-f036-48e4-838f-da6403e1ed09"
      },
      "source": [
        "# plot data\n",
        "\n",
        "y = df.iloc[0:100, 4].values\n",
        "y = np.where(y == 'Iris-setosa', -1, 1)\n",
        "\n",
        "# extract sepal length and petal length\n",
        "X = df.iloc[0:100, [0, 2]].values\n",
        "\n",
        "\n",
        "plt.scatter(X[:50, 0], X[:50, 1],\n",
        "            color='red', marker='o', label='setosa')\n",
        "plt.scatter(X[50:100, 0], X[50:100, 1],\n",
        "            color='blue', marker='x', label='versicolor')\n",
        "x1 = np.linspace(X[:,0].min(), X[:,0].max())\n",
        "\n",
        "ppn = Perceptron(eta = 0.1, n_epochs=100, random_state=2, neurons=1)\n",
        "\n",
        "ppn.fit(X,y)\n",
        "\n",
        "x1 = np.linspace(X[:,0].min(), X[:,0].max())\n",
        "\n",
        "#x2 = (-w[0]*x1 - b)/w[1]\n",
        "\n",
        "plt.xlabel('sepal length [cm]')\n",
        "plt.ylabel('petal length [cm]')\n",
        "plt.legend(loc='upper left')\n",
        "\n",
        "# plt.savefig('images/02_06.png', dpi=300)\n",
        "plt.show()"
      ],
      "execution_count": null,
      "outputs": [
        {
          "output_type": "display_data",
          "data": {
            "image/png": "[encoded data removed]",
            "text/plain": [
              "<Figure size 432x288 with 1 Axes>"
            ]
          },
          "metadata": {
            "tags": [],
            "needs_background": "light"
          }
        }
      ]
    },
    {
      "cell_type": "markdown",
      "metadata": {
        "id": "cJNO5PeNZ_iL"
      },
      "source": [
        "# Observations regarding the plot above\n",
        "\n",
        "\n",
        "> As we can see, the IRIS database can be classified by a Linear Classifier. We applied the scatterplot method from the matplotlib library to show the spatial\n",
        "distribution of the data\n",
        "\n"
      ]
    },
    {
      "cell_type": "markdown",
      "metadata": {
        "id": "Uin5c-y9uYSp"
      },
      "source": [
        "# Code snippet below\n",
        "\n",
        "\n",
        "> This code snippet below applies the Perceptron class to the given parameters: epochs, random state, neurons. \n",
        "> The parameters are explained by the design pattern snippet on the Perceptron class description\n",
        "> The matplotlib plot show how many iterations the perceptron takes to converge based on the IRIS database and the given parameters\n"
      ]
    },
    {
      "cell_type": "code",
      "metadata": {
        "id": "BOn4Qk2tq39Y",
        "colab": {
          "base_uri": "https://localhost:8080/",
          "height": 279
        },
        "outputId": "03562745-6ce6-4cdf-dfc1-88ada4130db8"
      },
      "source": [
        "#evokes the perceptron class parsing the following parameters\n",
        "ppn = Perceptron(eta=0.1, n_epochs=100, random_state=14, neurons= 1)\n",
        "#run the fit method from the perceptron class\n",
        "ppn.fit(X, y)\n",
        "\n",
        "plt.plot(range(1, len(ppn.errors_) + 1), ppn.errors_, marker='o')\n",
        "plt.xlabel('Epochs')\n",
        "plt.ylabel('Number of updates')\n",
        "# plt.savefig('images/02_07.png', dpi=300)\n",
        "plt.rcParams[\"figure.figsize\"] = [5,5]\n",
        "plt.show()"
      ],
      "execution_count": null,
      "outputs": [
        {
          "output_type": "display_data",
          "data": {
            "image/png": "[encoded data removed]",
            "text/plain": [
              "<Figure size 432x288 with 1 Axes>"
            ]
          },
          "metadata": {
            "tags": [],
            "needs_background": "light"
          }
        }
      ]
    },
    {
      "cell_type": "markdown",
      "metadata": {
        "id": "J3HBINHIsk1f"
      },
      "source": [
        "#Showing the Hyperplan separating the both classes\n",
        "\n",
        "> This plot aims to show the both setosa and versicolor classes from the IRIS database, how they are distributed.\n",
        "\n",
        "> This plot also shows the hyperplan obtained by the fit method of the perceptron class"
      ]
    },
    {
      "cell_type": "code",
      "metadata": {
        "id": "i3rGiyROq-n7",
        "colab": {
          "base_uri": "https://localhost:8080/",
          "height": 334
        },
        "outputId": "55475488-0e45-4e6c-e631-02e17d48feee"
      },
      "source": [
        "# plot data\n",
        "plt.scatter(X[:50, 0], X[:50, 1],\n",
        "            color='red', marker='o', label='setosa')\n",
        "plt.scatter(X[50:100, 0], X[50:100, 1],\n",
        "            color='blue', marker='x', label='versicolor')\n",
        "x1 = np.linspace(X[:,0].min(), X[:,0].max())\n",
        "\n",
        "ppn = Perceptron(eta = 0.001, n_epochs=100, random_state=2, neurons=1)\n",
        "\n",
        "ppn.fit(X,y)\n",
        "\n",
        "x1 = np.linspace(X[:,0].min(), X[:,0].max())\n",
        "\n",
        "#x2 = (-w[0]*x1 - b)/w[1]\n",
        "x2 = (-ppn.w_[0]*x1 - ppn.b_)/ppn.w_[1]\n",
        "plt.plot(x1, x2, color='green')\n",
        "\n",
        "plt.xlabel('sepal length [cm]')\n",
        "plt.ylabel('petal length [cm]')\n",
        "plt.legend(loc='upper left')\n",
        "\n",
        "# plt.savefig('images/02_06.png', dpi=300)\n",
        "plt.show()"
      ],
      "execution_count": null,
      "outputs": [
        {
          "output_type": "display_data",
          "data": {
            "image/png": "[encoded data removed]",
            "text/plain": [
              "<Figure size 360x360 with 1 Axes>"
            ]
          },
          "metadata": {
            "tags": [],
            "needs_background": "light"
          }
        }
      ]
    },
    {
      "cell_type": "markdown",
      "metadata": {
        "id": "jxL0TR2ktx-L"
      },
      "source": [
        "> As we can see, the plotted hyperplan separates the classes in a fitable way. Another perspection we can conclude from the given problem, is that the perceptron class has converged by doing only three iterations.\n",
        "\n"
      ]
    }
  ]
}