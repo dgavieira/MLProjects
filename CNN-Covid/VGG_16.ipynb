{
  "nbformat": 4,
  "nbformat_minor": 0,
  "metadata": {
    "colab": {
      "name": "VGG-16.ipynb",
      "provenance": []
    },
    "kernelspec": {
      "name": "python3",
      "display_name": "Python 3"
    },
    "accelerator": "GPU"
  },
  "cells": [
    {
      "cell_type": "markdown",
      "metadata": {
        "id": "3KfwADQJgH4R"
      },
      "source": [
        "# Importing Libraries\n"
      ]
    },
    {
      "cell_type": "code",
      "metadata": {
        "id": "WafP-NI5gANd",
        "colab": {
          "base_uri": "https://localhost:8080/",
          "height": 72
        },
        "outputId": "998c67dc-270b-423b-be6b-43b81e311642"
      },
      "source": [
        "import tensorflow as tf\n",
        "from tensorflow.keras.datasets import cifar10\n",
        "import numpy as np\n",
        "import matplotlib.pyplot as plt\n",
        "from tensorflow.keras.utils import to_categorical\n",
        "from tensorflow.keras import Model\n",
        "from tensorflow.keras.layers import Conv2D, MaxPooling2D, Flatten, Dense, Dropout\n",
        "from tensorflow.keras.callbacks import EarlyStopping, ReduceLROnPlateau\n",
        "from tensorflow.keras.optimizers import SGD\n",
        "from sklearn.metrics import classification_report, confusion_matrix\n",
        "import seaborn as sns"
      ],
      "execution_count": null,
      "outputs": [
        {
          "output_type": "stream",
          "text": [
            "/usr/local/lib/python3.6/dist-packages/statsmodels/tools/_testing.py:19: FutureWarning: pandas.util.testing is deprecated. Use the functions in the public API at pandas.testing instead.\n",
            "  import pandas.util.testing as tm\n"
          ],
          "name": "stderr"
        }
      ]
    },
    {
      "cell_type": "markdown",
      "metadata": {
        "id": "YMFF5186iO9M"
      },
      "source": [
        "# Prepare the Data\n",
        "\n",
        "> Divide the data in train and test"
      ]
    },
    {
      "cell_type": "code",
      "metadata": {
        "id": "_8JsHD3ohuKA"
      },
      "source": [
        "(X_train, y_train), (X_test, y_test) = cifar10.load_data()"
      ],
      "execution_count": null,
      "outputs": []
    },
    {
      "cell_type": "markdown",
      "metadata": {
        "id": "wAswUBgXia7p"
      },
      "source": [
        "> Obtain the class number"
      ]
    },
    {
      "cell_type": "code",
      "metadata": {
        "id": "4XtPfh7eiX0z",
        "colab": {
          "base_uri": "https://localhost:8080/",
          "height": 34
        },
        "outputId": "0f1af9e2-3a8c-4983-a6b2-948df5cb72fd"
      },
      "source": [
        "num_classes = np.unique(y_train)\n",
        "num_classes"
      ],
      "execution_count": null,
      "outputs": [
        {
          "output_type": "execute_result",
          "data": {
            "text/plain": [
              "array([0, 1, 2, 3, 4, 5, 6, 7, 8, 9], dtype=uint8)"
            ]
          },
          "metadata": {
            "tags": []
          },
          "execution_count": 3
        }
      ]
    },
    {
      "cell_type": "markdown",
      "metadata": {
        "id": "bEexLpH6ii_x"
      },
      "source": [
        "> Normalize the Data"
      ]
    },
    {
      "cell_type": "code",
      "metadata": {
        "id": "DaRQ91PVigcA"
      },
      "source": [
        "X_train, X_test = X_train/255, X_test/255"
      ],
      "execution_count": null,
      "outputs": []
    },
    {
      "cell_type": "markdown",
      "metadata": {
        "id": "IrGHe7jyiqaB"
      },
      "source": [
        "> Change to One-Hot Encoding"
      ]
    },
    {
      "cell_type": "code",
      "metadata": {
        "id": "iy4_VFZYioVg"
      },
      "source": [
        "y_train = to_categorical(y_train)\n",
        "y_test = to_categorical(y_test)"
      ],
      "execution_count": null,
      "outputs": []
    },
    {
      "cell_type": "markdown",
      "metadata": {
        "id": "ZF8dSpQpjdAn"
      },
      "source": [
        "> Get the class number"
      ]
    },
    {
      "cell_type": "code",
      "metadata": {
        "id": "DlTCtYW1iyI1"
      },
      "source": [
        "num_classes = y_train.shape[1]"
      ],
      "execution_count": null,
      "outputs": []
    },
    {
      "cell_type": "markdown",
      "metadata": {
        "id": "LV-ZWL8Mjkfv"
      },
      "source": [
        "# Build the Architecture\n",
        "\n",
        "> VGG-16 Architecture"
      ]
    },
    {
      "cell_type": "code",
      "metadata": {
        "id": "t0gLHpN2jh25"
      },
      "source": [
        "class VGG16(Model):\n",
        "  def __init__(self, num_classes):\n",
        "    super(VGG16, self).__init__()\n",
        "    self.conv1 = Conv2D(64, kernel_size=(3,3), padding='same', activation='relu')\n",
        "    self.conv2 = Conv2D(64, kernel_size=(3,3), padding='same', activation='relu')\n",
        "    self.max_pool1 = MaxPooling2D(pool_size=(2,2), strides=(2,2))\n",
        "\n",
        "    self.conv3 = Conv2D(128, kernel_size=(3,3), padding='same', activation='relu')\n",
        "    self.conv4 = Conv2D(128, kernel_size=(3,3), padding='same', activation='relu')\n",
        "    self.max_pool2 = MaxPooling2D(pool_size=(2,2), strides=(2,2))\n",
        "\n",
        "    self.conv5 = Conv2D(256, kernel_size=(3,3), padding='same', activation='relu')\n",
        "    self.conv6 = Conv2D(256, kernel_size=(3,3), padding='same', activation='relu')\n",
        "    self.conv7 = Conv2D(256, kernel_size=(3,3), padding='same', activation='relu')\n",
        "    self.max_pool3 = MaxPooling2D(pool_size=(2,2), strides=(2,2))\n",
        "\n",
        "    self.conv8 = Conv2D(512, kernel_size=(3,3), padding='same', activation='relu')\n",
        "    self.conv9 = Conv2D(512, kernel_size=(3,3), padding='same', activation='relu')\n",
        "    self.conv10 = Conv2D(512, kernel_size=(3,3), padding='same', activation='relu')\n",
        "    self.max_pool4 = MaxPooling2D(pool_size=(2,2), strides=(2,2))\n",
        "\n",
        "    self.conv11 = Conv2D(512, kernel_size=(3,3), padding='same', activation='relu')\n",
        "    self.conv12 = Conv2D(512, kernel_size=(3,3), padding='same', activation='relu')\n",
        "    self.conv13 = Conv2D(512, kernel_size=(3,3), padding='same', activation='relu')\n",
        "    self.max_pool5 = MaxPooling2D(pool_size=(2,2), strides=(2,2))\n",
        "\n",
        "    self.flatten = Flatten()\n",
        "    self.dense1 = Dense(4096, activation='relu')\n",
        "    self.dropout1 = Dropout(0.5)\n",
        "    self.dense2 = Dense(4096, activation='relu')\n",
        "    self.dropout2 = Dropout(0.5)\n",
        "    self.dense3 = Dense(num_classes, activation='relu')\n",
        "\n",
        "  def call(self, x):\n",
        "    x = self.max_pool1(self.conv2(self.conv1(x)))\n",
        "    x = self.max_pool2(self.conv4(self.conv3(x)))\n",
        "    x = self.max_pool3(self.conv7(self.conv6(self.conv5(x))))\n",
        "    x = self.max_pool4(self.conv10(self.conv9(self.conv8(x))))\n",
        "    x = self.max_pool5(self.conv13(self.conv12(self.conv11(x))))\n",
        "    x = self.flatten(x)\n",
        "    x = self.dense3(self.dropout2(self.dense2(self.dropout1(self.dense1(x)))))\n",
        "    return x"
      ],
      "execution_count": null,
      "outputs": []
    },
    {
      "cell_type": "markdown",
      "metadata": {
        "id": "_KXrxO34rIHU"
      },
      "source": [
        "# Train the Model"
      ]
    },
    {
      "cell_type": "markdown",
      "metadata": {
        "id": "92OWng-BrJrd"
      },
      "source": [
        "> Define optimizer, loss, metric"
      ]
    },
    {
      "cell_type": "code",
      "metadata": {
        "id": "vEOQsr2FrG-l",
        "colab": {
          "base_uri": "https://localhost:8080/",
          "height": 1000
        },
        "outputId": "fb7305e6-c428-4431-c797-9a8c6bc8ecbf"
      },
      "source": [
        "model = VGG16(num_classes)\n",
        "model.build(X_train.shape)\n",
        "sgd = SGD(momentum=0.9)\n",
        "model.compile(optimizer=sgd, loss='categorical_crossentropy', metrics='accuracy')\n",
        "model.summary()"
      ],
      "execution_count": null,
      "outputs": [
        {
          "output_type": "stream",
          "text": [
            "Model: \"vg_g16\"\n",
            "_________________________________________________________________\n",
            "Layer (type)                 Output Shape              Param #   \n",
            "=================================================================\n",
            "conv2d (Conv2D)              multiple                  1792      \n",
            "_________________________________________________________________\n",
            "conv2d_1 (Conv2D)            multiple                  36928     \n",
            "_________________________________________________________________\n",
            "max_pooling2d (MaxPooling2D) multiple                  0         \n",
            "_________________________________________________________________\n",
            "conv2d_2 (Conv2D)            multiple                  73856     \n",
            "_________________________________________________________________\n",
            "conv2d_3 (Conv2D)            multiple                  147584    \n",
            "_________________________________________________________________\n",
            "max_pooling2d_1 (MaxPooling2 multiple                  0         \n",
            "_________________________________________________________________\n",
            "conv2d_4 (Conv2D)            multiple                  295168    \n",
            "_________________________________________________________________\n",
            "conv2d_5 (Conv2D)            multiple                  590080    \n",
            "_________________________________________________________________\n",
            "conv2d_6 (Conv2D)            multiple                  590080    \n",
            "_________________________________________________________________\n",
            "max_pooling2d_2 (MaxPooling2 multiple                  0         \n",
            "_________________________________________________________________\n",
            "conv2d_7 (Conv2D)            multiple                  1180160   \n",
            "_________________________________________________________________\n",
            "conv2d_8 (Conv2D)            multiple                  2359808   \n",
            "_________________________________________________________________\n",
            "conv2d_9 (Conv2D)            multiple                  2359808   \n",
            "_________________________________________________________________\n",
            "max_pooling2d_3 (MaxPooling2 multiple                  0         \n",
            "_________________________________________________________________\n",
            "conv2d_10 (Conv2D)           multiple                  2359808   \n",
            "_________________________________________________________________\n",
            "conv2d_11 (Conv2D)           multiple                  2359808   \n",
            "_________________________________________________________________\n",
            "conv2d_12 (Conv2D)           multiple                  2359808   \n",
            "_________________________________________________________________\n",
            "max_pooling2d_4 (MaxPooling2 multiple                  0         \n",
            "_________________________________________________________________\n",
            "flatten (Flatten)            multiple                  0         \n",
            "_________________________________________________________________\n",
            "dense (Dense)                multiple                  2101248   \n",
            "_________________________________________________________________\n",
            "dropout (Dropout)            multiple                  0         \n",
            "_________________________________________________________________\n",
            "dense_1 (Dense)              multiple                  16781312  \n",
            "_________________________________________________________________\n",
            "dropout_1 (Dropout)          multiple                  0         \n",
            "_________________________________________________________________\n",
            "dense_2 (Dense)              multiple                  40970     \n",
            "=================================================================\n",
            "Total params: 33,638,218\n",
            "Trainable params: 33,638,218\n",
            "Non-trainable params: 0\n",
            "_________________________________________________________________\n"
          ],
          "name": "stdout"
        }
      ]
    },
    {
      "cell_type": "markdown",
      "metadata": {
        "id": "lRuMiDi0MpAb"
      },
      "source": [
        "> Define the callbacks"
      ]
    },
    {
      "cell_type": "code",
      "metadata": {
        "id": "llsuPfzArY-9"
      },
      "source": [
        "callback = [\n",
        "            EarlyStopping(patience = 10, verbose = 1),\n",
        "            ReduceLROnPlateau(factor = 0.1, patience = 3, min_lr = 0.00001, verbose = 1)\n",
        "]"
      ],
      "execution_count": null,
      "outputs": []
    },
    {
      "cell_type": "markdown",
      "metadata": {
        "id": "WVg6LbUDP3Ow"
      },
      "source": [
        "> train the model"
      ]
    },
    {
      "cell_type": "code",
      "metadata": {
        "id": "5hGpGWAePVix",
        "colab": {
          "base_uri": "https://localhost:8080/",
          "height": 987
        },
        "outputId": "7a0045ec-4795-4c14-cc30-726fb1261432"
      },
      "source": [
        "history = model.fit(X_train, y_train, epochs = 100, batch_size=256, validation_data=(X_test, y_test), callbacks=callback)"
      ],
      "execution_count": null,
      "outputs": [
        {
          "output_type": "stream",
          "text": [
            "Epoch 1/100\n",
            "  2/196 [..............................] - ETA: 9s - loss: 6.5103 - accuracy: 0.0996WARNING:tensorflow:Callbacks method `on_train_batch_end` is slow compared to the batch time (batch time: 0.0300s vs `on_train_batch_end` time: 0.0642s). Check your callbacks.\n",
            "196/196 [==============================] - 21s 108ms/step - loss: 2.3738 - accuracy: 0.0982 - val_loss: 2.3034 - val_accuracy: 0.1000\n",
            "Epoch 2/100\n",
            "196/196 [==============================] - 20s 101ms/step - loss: 2.3045 - accuracy: 0.0976 - val_loss: 2.3029 - val_accuracy: 0.0723\n",
            "Epoch 3/100\n",
            "196/196 [==============================] - 19s 99ms/step - loss: 2.3041 - accuracy: 0.1004 - val_loss: 2.3028 - val_accuracy: 0.1000\n",
            "Epoch 4/100\n",
            "196/196 [==============================] - 19s 99ms/step - loss: 2.3042 - accuracy: 0.1004 - val_loss: 2.3028 - val_accuracy: 0.1000\n",
            "Epoch 5/100\n",
            "196/196 [==============================] - 20s 100ms/step - loss: 2.3046 - accuracy: 0.0972 - val_loss: 2.3031 - val_accuracy: 0.1000\n",
            "Epoch 6/100\n",
            "195/196 [============================>.] - ETA: 0s - loss: 2.3037 - accuracy: 0.0996\n",
            "Epoch 00006: ReduceLROnPlateau reducing learning rate to 0.0009999999776482583.\n",
            "196/196 [==============================] - 20s 100ms/step - loss: 2.3037 - accuracy: 0.0997 - val_loss: 2.3028 - val_accuracy: 0.1000\n",
            "Epoch 7/100\n",
            "196/196 [==============================] - 20s 100ms/step - loss: 2.3041 - accuracy: 0.0980 - val_loss: 2.3028 - val_accuracy: 0.1000\n",
            "Epoch 8/100\n",
            "196/196 [==============================] - 20s 100ms/step - loss: 2.3036 - accuracy: 0.1005 - val_loss: 2.3027 - val_accuracy: 0.1000\n",
            "Epoch 9/100\n",
            "196/196 [==============================] - 20s 100ms/step - loss: 2.3036 - accuracy: 0.0995 - val_loss: 2.3027 - val_accuracy: 0.1000\n",
            "Epoch 10/100\n",
            "196/196 [==============================] - 20s 100ms/step - loss: 2.3040 - accuracy: 0.0992 - val_loss: 2.3027 - val_accuracy: 0.1000\n",
            "Epoch 11/100\n",
            "195/196 [============================>.] - ETA: 0s - loss: 2.3034 - accuracy: 0.1002\n",
            "Epoch 00011: ReduceLROnPlateau reducing learning rate to 9.999999310821295e-05.\n",
            "196/196 [==============================] - 20s 100ms/step - loss: 2.3034 - accuracy: 0.1001 - val_loss: 2.3027 - val_accuracy: 0.1001\n",
            "Epoch 12/100\n",
            "196/196 [==============================] - 20s 100ms/step - loss: 2.3033 - accuracy: 0.1010 - val_loss: 2.3027 - val_accuracy: 0.1000\n",
            "Epoch 13/100\n",
            "196/196 [==============================] - 20s 100ms/step - loss: 2.3037 - accuracy: 0.1000 - val_loss: 2.3027 - val_accuracy: 0.1000\n",
            "Epoch 14/100\n",
            "195/196 [============================>.] - ETA: 0s - loss: 2.3032 - accuracy: 0.0994\n",
            "Epoch 00014: ReduceLROnPlateau reducing learning rate to 1e-05.\n",
            "196/196 [==============================] - 20s 100ms/step - loss: 2.3033 - accuracy: 0.0994 - val_loss: 2.3027 - val_accuracy: 0.1000\n",
            "Epoch 15/100\n",
            "196/196 [==============================] - 20s 100ms/step - loss: 2.3037 - accuracy: 0.1000 - val_loss: 2.3027 - val_accuracy: 0.1000\n",
            "Epoch 16/100\n",
            "196/196 [==============================] - 20s 100ms/step - loss: 2.3036 - accuracy: 0.1012 - val_loss: 2.3027 - val_accuracy: 0.1000\n",
            "Epoch 17/100\n",
            "196/196 [==============================] - 20s 100ms/step - loss: 2.3039 - accuracy: 0.1002 - val_loss: 2.3027 - val_accuracy: 0.1000\n",
            "Epoch 18/100\n",
            "196/196 [==============================] - 20s 100ms/step - loss: 2.3038 - accuracy: 0.0994 - val_loss: 2.3027 - val_accuracy: 0.1000\n",
            "Epoch 19/100\n",
            "196/196 [==============================] - 20s 100ms/step - loss: 2.3038 - accuracy: 0.0974 - val_loss: 2.3027 - val_accuracy: 0.1000\n",
            "Epoch 20/100\n",
            "196/196 [==============================] - 20s 100ms/step - loss: 2.3035 - accuracy: 0.1021 - val_loss: 2.3027 - val_accuracy: 0.1000\n",
            "Epoch 21/100\n",
            "196/196 [==============================] - 20s 100ms/step - loss: 2.3035 - accuracy: 0.0993 - val_loss: 2.3027 - val_accuracy: 0.1000\n",
            "Epoch 22/100\n",
            "196/196 [==============================] - 20s 100ms/step - loss: 2.3037 - accuracy: 0.0991 - val_loss: 2.3027 - val_accuracy: 0.1000\n",
            "Epoch 23/100\n",
            "196/196 [==============================] - 20s 100ms/step - loss: 2.3036 - accuracy: 0.0989 - val_loss: 2.3027 - val_accuracy: 0.1000\n",
            "Epoch 00023: early stopping\n"
          ],
          "name": "stdout"
        }
      ]
    },
    {
      "cell_type": "markdown",
      "metadata": {
        "id": "sk4osE09QLLc"
      },
      "source": [
        "# Evaluate the Model"
      ]
    },
    {
      "cell_type": "markdown",
      "metadata": {
        "id": "_3RaC9VyQOE3"
      },
      "source": [
        "> Calculate the acciracy in test set"
      ]
    },
    {
      "cell_type": "code",
      "metadata": {
        "id": "T16b9VrrQA54",
        "colab": {
          "base_uri": "https://localhost:8080/",
          "height": 34
        },
        "outputId": "f0750551-b974-4dc3-e265-fb677ac54454"
      },
      "source": [
        "scores = model.evaluate(X_test, y_test)"
      ],
      "execution_count": null,
      "outputs": [
        {
          "output_type": "stream",
          "text": [
            "313/313 [==============================] - 3s 8ms/step - loss: 2.3027 - accuracy: 0.1000\n"
          ],
          "name": "stdout"
        }
      ]
    },
    {
      "cell_type": "markdown",
      "metadata": {
        "id": "DlZTXDWeQSAr"
      },
      "source": [
        "# Predict the Classes"
      ]
    },
    {
      "cell_type": "markdown",
      "metadata": {
        "id": "J_rgjfMVQTlS"
      },
      "source": [
        "> Set the probabilities"
      ]
    },
    {
      "cell_type": "code",
      "metadata": {
        "id": "92_lOVMXQTAn",
        "colab": {
          "base_uri": "https://localhost:8080/",
          "height": 246
        },
        "outputId": "d6a12329-d9fc-4dd2-a29e-18d07cdd48d4"
      },
      "source": [
        "y_pred = model.predict(X_test)\n",
        "y_pred"
      ],
      "execution_count": null,
      "outputs": [
        {
          "output_type": "execute_result",
          "data": {
            "text/plain": [
              "array([[23066.992, 23392.27 , 23494.871, ..., 23536.541, 23579.93 ,\n",
              "        23667.043],\n",
              "       [30373.018, 30838.402, 30987.318, ..., 31052.543, 31114.023,\n",
              "        31228.799],\n",
              "       [27044.658, 27446.17 , 27573.707, ..., 27628.254, 27681.494,\n",
              "        27783.65 ],\n",
              "       ...,\n",
              "       [18505.197, 18742.268, 18816.035, ..., 18843.166, 18875.148,\n",
              "        18943.982],\n",
              "       [25583.26 , 25956.502, 26075.875, ..., 26125.5  , 26175.074,\n",
              "        26271.32 ],\n",
              "       [21847.334, 22148.756, 22243.158, ..., 22281.08 , 22321.422,\n",
              "        22403.531]], dtype=float32)"
            ]
          },
          "metadata": {
            "tags": []
          },
          "execution_count": 12
        }
      ]
    },
    {
      "cell_type": "markdown",
      "metadata": {
        "id": "kFyaxA1xQoxE"
      },
      "source": [
        "> Change y to original values"
      ]
    },
    {
      "cell_type": "code",
      "metadata": {
        "id": "q4cOYHlUQzJv",
        "colab": {
          "base_uri": "https://localhost:8080/",
          "height": 34
        },
        "outputId": "54e300c5-03d3-461e-fdd0-524b3a521da4"
      },
      "source": [
        "y_test = np.argmax(y_test, axis = 1)\n",
        "y_pred = np.argmax(y_pred, axis = 1)\n",
        "print(y_test, y_pred)"
      ],
      "execution_count": null,
      "outputs": [
        {
          "output_type": "stream",
          "text": [
            "[3 8 8 ... 5 1 7] [9 9 9 ... 9 9 9]\n"
          ],
          "name": "stdout"
        }
      ]
    },
    {
      "cell_type": "markdown",
      "metadata": {
        "id": "Wfd1RcGIQ0Fm"
      },
      "source": [
        "Calculate precision, recall, f1 score"
      ]
    },
    {
      "cell_type": "code",
      "metadata": {
        "id": "aFoCzSjpQ10o",
        "colab": {
          "base_uri": "https://localhost:8080/",
          "height": 371
        },
        "outputId": "24e96d39-f5a7-4f38-fc5f-c9ca21de87c1"
      },
      "source": [
        "print(classification_report(y_test, y_pred))"
      ],
      "execution_count": null,
      "outputs": [
        {
          "output_type": "stream",
          "text": [
            "              precision    recall  f1-score   support\n",
            "\n",
            "           0       0.00      0.00      0.00      1000\n",
            "           1       0.00      0.00      0.00      1000\n",
            "           2       0.00      0.00      0.00      1000\n",
            "           3       0.00      0.00      0.00      1000\n",
            "           4       0.00      0.00      0.00      1000\n",
            "           5       0.00      0.00      0.00      1000\n",
            "           6       0.00      0.00      0.00      1000\n",
            "           7       0.00      0.00      0.00      1000\n",
            "           8       0.00      0.00      0.00      1000\n",
            "           9       0.10      1.00      0.18      1000\n",
            "\n",
            "    accuracy                           0.10     10000\n",
            "   macro avg       0.01      0.10      0.02     10000\n",
            "weighted avg       0.01      0.10      0.02     10000\n",
            "\n"
          ],
          "name": "stdout"
        },
        {
          "output_type": "stream",
          "text": [
            "/usr/local/lib/python3.6/dist-packages/sklearn/metrics/_classification.py:1272: UndefinedMetricWarning: Precision and F-score are ill-defined and being set to 0.0 in labels with no predicted samples. Use `zero_division` parameter to control this behavior.\n",
            "  _warn_prf(average, modifier, msg_start, len(result))\n"
          ],
          "name": "stderr"
        }
      ]
    },
    {
      "cell_type": "markdown",
      "metadata": {
        "id": "umf7z0KpQ2xm"
      },
      "source": [
        "Generate Confusion Matrix"
      ]
    },
    {
      "cell_type": "code",
      "metadata": {
        "id": "DnFuIOdPQ360",
        "colab": {
          "base_uri": "https://localhost:8080/",
          "height": 193
        },
        "outputId": "53de5833-125e-482f-bf51-b63f3f3b20da"
      },
      "source": [
        "cm = confusion_matrix(y_test, y_pred)\n",
        "print(cm)"
      ],
      "execution_count": null,
      "outputs": [
        {
          "output_type": "stream",
          "text": [
            "[[   0    0    0    0    0    0    0    0    0 1000]\n",
            " [   0    0    0    0    0    0    0    0    0 1000]\n",
            " [   0    0    0    0    0    0    0    0    0 1000]\n",
            " [   0    0    0    0    0    0    0    0    0 1000]\n",
            " [   0    0    0    0    0    0    0    0    0 1000]\n",
            " [   0    0    0    0    0    0    0    0    0 1000]\n",
            " [   0    0    0    0    0    0    0    0    0 1000]\n",
            " [   0    0    0    0    0    0    0    0    0 1000]\n",
            " [   0    0    0    0    0    0    0    0    0 1000]\n",
            " [   0    0    0    0    0    0    0    0    0 1000]]\n"
          ],
          "name": "stdout"
        }
      ]
    },
    {
      "cell_type": "markdown",
      "metadata": {
        "id": "jQycDNbpQ4UQ"
      },
      "source": [
        "Show Confusion Matrix with Seaborn"
      ]
    },
    {
      "cell_type": "code",
      "metadata": {
        "id": "ectK0IqXQ6BY",
        "colab": {
          "base_uri": "https://localhost:8080/",
          "height": 530
        },
        "outputId": "b921083a-3377-4f12-f3f4-867a806eb4ce"
      },
      "source": [
        "labels = ['airplane',\n",
        "          'automobile',\n",
        "          'bird',\n",
        "          'cat',\n",
        "          'deer',\n",
        "          'dog',\n",
        "          'frog',\n",
        "          'horse',\n",
        "          'ship',\n",
        "          'truck',\n",
        "          ]\n",
        "\n",
        "plt.subplots( figsize = ( 12, 8 ) )\n",
        "sns.heatmap( cm, cmap = 'YlGnBu', annot = True, fmt = 'd', cbar = False, xticklabels = labels, yticklabels = labels )\n",
        "plt.title( 'Confusion Matrix' ) \n",
        "plt.xlabel( 'Predict' )\n",
        "plt.ylabel( 'True' )"
      ],
      "execution_count": null,
      "outputs": [
        {
          "output_type": "execute_result",
          "data": {
            "text/plain": [
              "Text(87.0, 0.5, 'True')"
            ]
          },
          "metadata": {
            "tags": []
          },
          "execution_count": 16
        },
        {
          "output_type": "display_data",
          "data": {
            "image/png": "[encoded data removed]",
            "text/plain": [
              "<Figure size 864x576 with 1 Axes>"
            ]
          },
          "metadata": {
            "tags": [],
            "needs_background": "light"
          }
        }
      ]
    },
    {
      "cell_type": "code",
      "metadata": {
        "id": "jIgJCgc9TACq"
      },
      "source": [
        ""
      ],
      "execution_count": null,
      "outputs": []
    }
  ]
}