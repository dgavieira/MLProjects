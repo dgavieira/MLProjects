{
  "nbformat": 4,
  "nbformat_minor": 0,
  "metadata": {
    "colab": {
      "name": "LeNet-5.ipynb",
      "provenance": []
    },
    "kernelspec": {
      "name": "python3",
      "display_name": "Python 3"
    },
    "accelerator": "GPU"
  },
  "cells": [
    {
      "cell_type": "markdown",
      "metadata": {
        "id": "iEt3jpO82D51"
      },
      "source": [
        "# Importing Libraries"
      ]
    },
    {
      "cell_type": "code",
      "metadata": {
        "id": "N73Rj2Lu12j8",
        "colab": {
          "base_uri": "https://localhost:8080/",
          "height": 72
        },
        "outputId": "168b3f7e-0e5d-4e05-be3a-62d70d50034b"
      },
      "source": [
        "import tensorflow as tf\n",
        "from tensorflow.keras.datasets import cifar10\n",
        "import numpy as np\n",
        "import matplotlib.pyplot as plt\n",
        "from tensorflow.keras.utils import to_categorical\n",
        "from tensorflow.keras import Model\n",
        "from tensorflow.keras.layers import Conv2D, MaxPooling2D, Flatten, Dense\n",
        "from tensorflow.keras.callbacks import EarlyStopping, ReduceLROnPlateau\n",
        "from tensorflow.keras.optimizers import SGD\n",
        "from sklearn.metrics import classification_report, confusion_matrix\n",
        "import seaborn as sns"
      ],
      "execution_count": null,
      "outputs": [
        {
          "output_type": "stream",
          "text": [
            "/usr/local/lib/python3.6/dist-packages/statsmodels/tools/_testing.py:19: FutureWarning: pandas.util.testing is deprecated. Use the functions in the public API at pandas.testing instead.\n",
            "  import pandas.util.testing as tm\n"
          ],
          "name": "stderr"
        }
      ]
    },
    {
      "cell_type": "markdown",
      "metadata": {
        "id": "mLrABl_-4mK3"
      },
      "source": [
        "# Prepare the Data\n",
        "\n",
        "> Split the data in train and test"
      ]
    },
    {
      "cell_type": "code",
      "metadata": {
        "id": "tpeKjjjP3kFX"
      },
      "source": [
        "(X_train, y_train), (X_test, y_test) = cifar10.load_data()"
      ],
      "execution_count": null,
      "outputs": []
    },
    {
      "cell_type": "markdown",
      "metadata": {
        "id": "qUVsugBrDV9b"
      },
      "source": [
        "> Verify the data type"
      ]
    },
    {
      "cell_type": "markdown",
      "metadata": {
        "id": "Kta0DT6PFWlK"
      },
      "source": [
        "> Characteristic Matrix"
      ]
    },
    {
      "cell_type": "code",
      "metadata": {
        "id": "Du9eQnAR6bRm",
        "colab": {
          "base_uri": "https://localhost:8080/",
          "height": 879
        },
        "outputId": "8ebcdec1-bfde-480a-ecb6-a49c2c82f0c7"
      },
      "source": [
        "X_train[4]"
      ],
      "execution_count": null,
      "outputs": [
        {
          "output_type": "execute_result",
          "data": {
            "text/plain": [
              "array([[[170, 180, 198],\n",
              "        [168, 178, 196],\n",
              "        [177, 185, 203],\n",
              "        ...,\n",
              "        [162, 179, 215],\n",
              "        [158, 178, 214],\n",
              "        [157, 177, 212]],\n",
              "\n",
              "       [[168, 181, 198],\n",
              "        [172, 185, 201],\n",
              "        [171, 183, 200],\n",
              "        ...,\n",
              "        [159, 177, 212],\n",
              "        [156, 176, 211],\n",
              "        [154, 174, 209]],\n",
              "\n",
              "       [[154, 170, 186],\n",
              "        [149, 165, 181],\n",
              "        [129, 144, 162],\n",
              "        ...,\n",
              "        [161, 178, 214],\n",
              "        [157, 177, 212],\n",
              "        [154, 174, 209]],\n",
              "\n",
              "       ...,\n",
              "\n",
              "       [[ 74,  84,  80],\n",
              "        [ 76,  85,  81],\n",
              "        [ 78,  85,  82],\n",
              "        ...,\n",
              "        [ 71,  75,  78],\n",
              "        [ 68,  72,  75],\n",
              "        [ 61,  65,  68]],\n",
              "\n",
              "       [[ 68,  76,  77],\n",
              "        [ 69,  77,  78],\n",
              "        [ 72,  79,  78],\n",
              "        ...,\n",
              "        [ 76,  80,  83],\n",
              "        [ 71,  75,  78],\n",
              "        [ 71,  75,  78]],\n",
              "\n",
              "       [[ 67,  75,  78],\n",
              "        [ 68,  76,  79],\n",
              "        [ 69,  75,  76],\n",
              "        ...,\n",
              "        [ 75,  79,  82],\n",
              "        [ 71,  75,  78],\n",
              "        [ 73,  77,  80]]], dtype=uint8)"
            ]
          },
          "metadata": {
            "tags": []
          },
          "execution_count": 3
        }
      ]
    },
    {
      "cell_type": "markdown",
      "metadata": {
        "id": "4hqr0uUZMttC"
      },
      "source": [
        "## Exploring the dataset"
      ]
    },
    {
      "cell_type": "markdown",
      "metadata": {
        "id": "-1ISb0tJFSry"
      },
      "source": [
        "> Veryfing an image example plot"
      ]
    },
    {
      "cell_type": "code",
      "metadata": {
        "id": "rra13WzzDvEe",
        "colab": {
          "base_uri": "https://localhost:8080/",
          "height": 268
        },
        "outputId": "4d1198e2-23d2-45e1-ec72-f93f6ad976ae"
      },
      "source": [
        "plt.figure()\n",
        "plt.imshow(X_train[5])\n",
        "plt.colorbar()\n",
        "plt.grid(False)\n",
        "plt.show()"
      ],
      "execution_count": null,
      "outputs": [
        {
          "output_type": "display_data",
          "data": {
            "image/png": "[encoded data removed]",
            "text/plain": [
              "<Figure size 432x288 with 2 Axes>"
            ]
          },
          "metadata": {
            "tags": [],
            "needs_background": "light"
          }
        }
      ]
    },
    {
      "cell_type": "markdown",
      "metadata": {
        "id": "jX8-flTuFKik"
      },
      "source": [
        "> Verifying number of classes"
      ]
    },
    {
      "cell_type": "code",
      "metadata": {
        "id": "iWcneLkDErjZ",
        "colab": {
          "base_uri": "https://localhost:8080/",
          "height": 34
        },
        "outputId": "1f5e6fb2-cabf-4b21-e73b-f33869de23bf"
      },
      "source": [
        "num_classes = np.unique(y_train)\n",
        "num_classes"
      ],
      "execution_count": null,
      "outputs": [
        {
          "output_type": "execute_result",
          "data": {
            "text/plain": [
              "array([0, 1, 2, 3, 4, 5, 6, 7, 8, 9], dtype=uint8)"
            ]
          },
          "metadata": {
            "tags": []
          },
          "execution_count": 5
        }
      ]
    },
    {
      "cell_type": "markdown",
      "metadata": {
        "id": "3HM2i2drFoe0"
      },
      "source": [
        ">Plot a grid of 3x3 images"
      ]
    },
    {
      "cell_type": "code",
      "metadata": {
        "id": "3W6NEqZlFPfF",
        "colab": {
          "base_uri": "https://localhost:8080/",
          "height": 268
        },
        "outputId": "4b7f72c9-05e6-4ceb-8642-4423a69bea22"
      },
      "source": [
        "for i in range(9):\n",
        "  plt.subplot(331+i)\n",
        "  plt.imshow(X_train[i])"
      ],
      "execution_count": null,
      "outputs": [
        {
          "output_type": "display_data",
          "data": {
            "image/png": "[encoded data removed]",
            "text/plain": [
              "<Figure size 432x288 with 9 Axes>"
            ]
          },
          "metadata": {
            "tags": [],
            "needs_background": "light"
          }
        }
      ]
    },
    {
      "cell_type": "markdown",
      "metadata": {
        "id": "i7eT3IonMqaR"
      },
      "source": [
        "## Normalizing the Data"
      ]
    },
    {
      "cell_type": "code",
      "metadata": {
        "id": "NZWRIcneFx4o"
      },
      "source": [
        "X_train, X_test = X_train/255, X_test/255"
      ],
      "execution_count": null,
      "outputs": []
    },
    {
      "cell_type": "markdown",
      "metadata": {
        "id": "y41RoltnNCBY"
      },
      "source": [
        "> Verifying the normalized dataset"
      ]
    },
    {
      "cell_type": "code",
      "metadata": {
        "id": "QOqdIaReM_rd",
        "colab": {
          "base_uri": "https://localhost:8080/",
          "height": 879
        },
        "outputId": "864a675c-4703-4dd8-bb5d-819eebe90d4c"
      },
      "source": [
        "X_train[0]"
      ],
      "execution_count": null,
      "outputs": [
        {
          "output_type": "execute_result",
          "data": {
            "text/plain": [
              "array([[[0.23137255, 0.24313725, 0.24705882],\n",
              "        [0.16862745, 0.18039216, 0.17647059],\n",
              "        [0.19607843, 0.18823529, 0.16862745],\n",
              "        ...,\n",
              "        [0.61960784, 0.51764706, 0.42352941],\n",
              "        [0.59607843, 0.49019608, 0.4       ],\n",
              "        [0.58039216, 0.48627451, 0.40392157]],\n",
              "\n",
              "       [[0.0627451 , 0.07843137, 0.07843137],\n",
              "        [0.        , 0.        , 0.        ],\n",
              "        [0.07058824, 0.03137255, 0.        ],\n",
              "        ...,\n",
              "        [0.48235294, 0.34509804, 0.21568627],\n",
              "        [0.46666667, 0.3254902 , 0.19607843],\n",
              "        [0.47843137, 0.34117647, 0.22352941]],\n",
              "\n",
              "       [[0.09803922, 0.09411765, 0.08235294],\n",
              "        [0.0627451 , 0.02745098, 0.        ],\n",
              "        [0.19215686, 0.10588235, 0.03137255],\n",
              "        ...,\n",
              "        [0.4627451 , 0.32941176, 0.19607843],\n",
              "        [0.47058824, 0.32941176, 0.19607843],\n",
              "        [0.42745098, 0.28627451, 0.16470588]],\n",
              "\n",
              "       ...,\n",
              "\n",
              "       [[0.81568627, 0.66666667, 0.37647059],\n",
              "        [0.78823529, 0.6       , 0.13333333],\n",
              "        [0.77647059, 0.63137255, 0.10196078],\n",
              "        ...,\n",
              "        [0.62745098, 0.52156863, 0.2745098 ],\n",
              "        [0.21960784, 0.12156863, 0.02745098],\n",
              "        [0.20784314, 0.13333333, 0.07843137]],\n",
              "\n",
              "       [[0.70588235, 0.54509804, 0.37647059],\n",
              "        [0.67843137, 0.48235294, 0.16470588],\n",
              "        [0.72941176, 0.56470588, 0.11764706],\n",
              "        ...,\n",
              "        [0.72156863, 0.58039216, 0.36862745],\n",
              "        [0.38039216, 0.24313725, 0.13333333],\n",
              "        [0.3254902 , 0.20784314, 0.13333333]],\n",
              "\n",
              "       [[0.69411765, 0.56470588, 0.45490196],\n",
              "        [0.65882353, 0.50588235, 0.36862745],\n",
              "        [0.70196078, 0.55686275, 0.34117647],\n",
              "        ...,\n",
              "        [0.84705882, 0.72156863, 0.54901961],\n",
              "        [0.59215686, 0.4627451 , 0.32941176],\n",
              "        [0.48235294, 0.36078431, 0.28235294]]])"
            ]
          },
          "metadata": {
            "tags": []
          },
          "execution_count": 8
        }
      ]
    },
    {
      "cell_type": "markdown",
      "metadata": {
        "id": "qLffiHlcOrLb"
      },
      "source": [
        "> Change to one-hot encoding"
      ]
    },
    {
      "cell_type": "code",
      "metadata": {
        "id": "yu17CXvhNR78"
      },
      "source": [
        "y_train = to_categorical( y_train )\n",
        "y_test = to_categorical( y_test )"
      ],
      "execution_count": null,
      "outputs": []
    },
    {
      "cell_type": "markdown",
      "metadata": {
        "id": "yGzKLcTBPIco"
      },
      "source": [
        "> Verify y"
      ]
    },
    {
      "cell_type": "code",
      "metadata": {
        "id": "TAAZTk-sPHwa",
        "colab": {
          "base_uri": "https://localhost:8080/",
          "height": 34
        },
        "outputId": "9b11fd3b-b4b0-44b5-af21-326deeba8825"
      },
      "source": [
        "y_train[0]"
      ],
      "execution_count": null,
      "outputs": [
        {
          "output_type": "execute_result",
          "data": {
            "text/plain": [
              "array([0., 0., 0., 0., 0., 0., 1., 0., 0., 0.], dtype=float32)"
            ]
          },
          "metadata": {
            "tags": []
          },
          "execution_count": 10
        }
      ]
    },
    {
      "cell_type": "markdown",
      "metadata": {
        "id": "yGl_Sw38si_8"
      },
      "source": [
        "> get the class number"
      ]
    },
    {
      "cell_type": "code",
      "metadata": {
        "id": "bWaQ28McPLry",
        "colab": {
          "base_uri": "https://localhost:8080/",
          "height": 34
        },
        "outputId": "2caed35d-3dda-4715-c7f5-b169f10cc21a"
      },
      "source": [
        "num_classes = y_train.shape[1]\n",
        "num_classes"
      ],
      "execution_count": null,
      "outputs": [
        {
          "output_type": "execute_result",
          "data": {
            "text/plain": [
              "10"
            ]
          },
          "metadata": {
            "tags": []
          },
          "execution_count": 11
        }
      ]
    },
    {
      "cell_type": "markdown",
      "metadata": {
        "id": "RN0zEkoIvHFQ"
      },
      "source": [
        "# Build the Architecture"
      ]
    },
    {
      "cell_type": "code",
      "metadata": {
        "id": "gjG83tW9tszE"
      },
      "source": [
        "class LeNet5( Model ):\n",
        "  def __init__( self, num_classes ):\n",
        "    super( LeNet5, self ).__init__()\n",
        "    self.conv1    = Conv2D( 6, kernel_size = ( 5, 5 ), activation = 'relu' )\n",
        "    self.maxpool1 = MaxPooling2D( pool_size = ( 2,2 ) )\n",
        "    self.conv2    = Conv2D( 16, kernel_size = ( 5, 5 ), activation = 'relu' )\n",
        "    self.maxpool2 = MaxPooling2D( pool_size = ( 2,2 ) )\n",
        "    self.flatten  = Flatten(  )\n",
        "    self.dense1   = Dense( 120, activation = 'relu' )\n",
        "    self.dense2   = Dense( 84, activation = 'relu' )\n",
        "    self.dense3   = Dense( num_classes, activation = 'softmax' )\n",
        "\n",
        "  def call ( self, x ):\n",
        "    x = self.maxpool1 ( self.conv1 ( x ) )\n",
        "    x = self.maxpool2 ( self.conv2 ( x ) )\n",
        "    x = self.flatten( x )\n",
        "    x = self.dense3 ( self.dense2 ( self.dense1 ( x ) ) )\n",
        "\n",
        "    return x"
      ],
      "execution_count": null,
      "outputs": []
    },
    {
      "cell_type": "markdown",
      "metadata": {
        "id": "cdkXtG-n1bad"
      },
      "source": [
        "# Train the Model"
      ]
    },
    {
      "cell_type": "markdown",
      "metadata": {
        "id": "kEnEtweH1f8P"
      },
      "source": [
        "> define optimizer, loss, metric"
      ]
    },
    {
      "cell_type": "code",
      "metadata": {
        "id": "LqxcrXBX1c72",
        "colab": {
          "base_uri": "https://localhost:8080/",
          "height": 439
        },
        "outputId": "46181bb7-f202-461b-df2f-16e46736d76b"
      },
      "source": [
        "model = LeNet5(num_classes)\n",
        "model.build(X_train.shape)\n",
        "sgd = SGD(momentum = 0.9)\n",
        "model.compile(optimizer = sgd, loss = 'categorical_crossentropy', metrics = 'accuracy')\n",
        "model.summary()"
      ],
      "execution_count": null,
      "outputs": [
        {
          "output_type": "stream",
          "text": [
            "Model: \"le_net5\"\n",
            "_________________________________________________________________\n",
            "Layer (type)                 Output Shape              Param #   \n",
            "=================================================================\n",
            "conv2d (Conv2D)              multiple                  456       \n",
            "_________________________________________________________________\n",
            "max_pooling2d (MaxPooling2D) multiple                  0         \n",
            "_________________________________________________________________\n",
            "conv2d_1 (Conv2D)            multiple                  2416      \n",
            "_________________________________________________________________\n",
            "max_pooling2d_1 (MaxPooling2 multiple                  0         \n",
            "_________________________________________________________________\n",
            "flatten (Flatten)            multiple                  0         \n",
            "_________________________________________________________________\n",
            "dense (Dense)                multiple                  48120     \n",
            "_________________________________________________________________\n",
            "dense_1 (Dense)              multiple                  10164     \n",
            "_________________________________________________________________\n",
            "dense_2 (Dense)              multiple                  850       \n",
            "=================================================================\n",
            "Total params: 62,006\n",
            "Trainable params: 62,006\n",
            "Non-trainable params: 0\n",
            "_________________________________________________________________\n"
          ],
          "name": "stdout"
        }
      ]
    },
    {
      "cell_type": "markdown",
      "metadata": {
        "id": "7OSTEghG8mtM"
      },
      "source": [
        "> Setting callbacks and fit the model"
      ]
    },
    {
      "cell_type": "code",
      "metadata": {
        "id": "STmjLVIf7WGH",
        "colab": {
          "base_uri": "https://localhost:8080/",
          "height": 1000
        },
        "outputId": "9eaa6d05-9590-4c0e-966c-d6bd5378523e"
      },
      "source": [
        "callback = [\n",
        "            EarlyStopping(patience = 10, verbose = 1),\n",
        "            ReduceLROnPlateau(factor = 0.1, patience = 3, min_lr = 0.00001, verbose = 1)\n",
        "]\n",
        "history = model.fit(X_train, y_train, epochs = 100, batch_size = 256, validation_data = (X_test, y_test), callbacks = callback)"
      ],
      "execution_count": null,
      "outputs": [
        {
          "output_type": "stream",
          "text": [
            "Epoch 1/100\n",
            "196/196 [==============================] - 2s 8ms/step - loss: 2.0772 - accuracy: 0.2421 - val_loss: 1.8597 - val_accuracy: 0.3246 - lr: 0.0100\n",
            "Epoch 2/100\n",
            "196/196 [==============================] - 1s 7ms/step - loss: 1.7471 - accuracy: 0.3710 - val_loss: 1.6507 - val_accuracy: 0.4182 - lr: 0.0100\n",
            "Epoch 3/100\n",
            "196/196 [==============================] - 1s 7ms/step - loss: 1.5618 - accuracy: 0.4371 - val_loss: 1.5012 - val_accuracy: 0.4532 - lr: 0.0100\n",
            "Epoch 4/100\n",
            "196/196 [==============================] - 1s 7ms/step - loss: 1.4812 - accuracy: 0.4674 - val_loss: 1.4334 - val_accuracy: 0.4837 - lr: 0.0100\n",
            "Epoch 5/100\n",
            "196/196 [==============================] - 1s 7ms/step - loss: 1.4134 - accuracy: 0.4898 - val_loss: 1.4292 - val_accuracy: 0.4832 - lr: 0.0100\n",
            "Epoch 6/100\n",
            "196/196 [==============================] - 1s 7ms/step - loss: 1.3670 - accuracy: 0.5084 - val_loss: 1.3402 - val_accuracy: 0.5154 - lr: 0.0100\n",
            "Epoch 7/100\n",
            "196/196 [==============================] - 1s 7ms/step - loss: 1.3209 - accuracy: 0.5259 - val_loss: 1.3440 - val_accuracy: 0.5146 - lr: 0.0100\n",
            "Epoch 8/100\n",
            "196/196 [==============================] - 1s 6ms/step - loss: 1.2809 - accuracy: 0.5413 - val_loss: 1.2986 - val_accuracy: 0.5332 - lr: 0.0100\n",
            "Epoch 9/100\n",
            "196/196 [==============================] - 1s 6ms/step - loss: 1.2600 - accuracy: 0.5522 - val_loss: 1.2911 - val_accuracy: 0.5360 - lr: 0.0100\n",
            "Epoch 10/100\n",
            "196/196 [==============================] - 1s 6ms/step - loss: 1.2220 - accuracy: 0.5675 - val_loss: 1.2742 - val_accuracy: 0.5538 - lr: 0.0100\n",
            "Epoch 11/100\n",
            "196/196 [==============================] - 1s 6ms/step - loss: 1.2006 - accuracy: 0.5729 - val_loss: 1.3113 - val_accuracy: 0.5422 - lr: 0.0100\n",
            "Epoch 12/100\n",
            "196/196 [==============================] - 1s 6ms/step - loss: 1.1692 - accuracy: 0.5866 - val_loss: 1.3297 - val_accuracy: 0.5311 - lr: 0.0100\n",
            "Epoch 13/100\n",
            "196/196 [==============================] - 1s 6ms/step - loss: 1.1517 - accuracy: 0.5907 - val_loss: 1.2273 - val_accuracy: 0.5636 - lr: 0.0100\n",
            "Epoch 14/100\n",
            "196/196 [==============================] - 1s 6ms/step - loss: 1.1330 - accuracy: 0.5985 - val_loss: 1.2093 - val_accuracy: 0.5711 - lr: 0.0100\n",
            "Epoch 15/100\n",
            "196/196 [==============================] - 1s 6ms/step - loss: 1.1053 - accuracy: 0.6074 - val_loss: 1.2051 - val_accuracy: 0.5774 - lr: 0.0100\n",
            "Epoch 16/100\n",
            "196/196 [==============================] - 1s 6ms/step - loss: 1.0903 - accuracy: 0.6149 - val_loss: 1.2104 - val_accuracy: 0.5757 - lr: 0.0100\n",
            "Epoch 17/100\n",
            "196/196 [==============================] - 1s 6ms/step - loss: 1.0746 - accuracy: 0.6182 - val_loss: 1.2437 - val_accuracy: 0.5574 - lr: 0.0100\n",
            "Epoch 18/100\n",
            "196/196 [==============================] - 1s 6ms/step - loss: 1.0495 - accuracy: 0.6291 - val_loss: 1.1916 - val_accuracy: 0.5758 - lr: 0.0100\n",
            "Epoch 19/100\n",
            "196/196 [==============================] - 1s 6ms/step - loss: 1.0394 - accuracy: 0.6345 - val_loss: 1.1824 - val_accuracy: 0.5807 - lr: 0.0100\n",
            "Epoch 20/100\n",
            "196/196 [==============================] - 1s 6ms/step - loss: 1.0174 - accuracy: 0.6398 - val_loss: 1.1807 - val_accuracy: 0.5843 - lr: 0.0100\n",
            "Epoch 21/100\n",
            "196/196 [==============================] - 1s 6ms/step - loss: 1.0063 - accuracy: 0.6435 - val_loss: 1.1813 - val_accuracy: 0.5845 - lr: 0.0100\n",
            "Epoch 22/100\n",
            "196/196 [==============================] - 1s 6ms/step - loss: 0.9864 - accuracy: 0.6515 - val_loss: 1.2732 - val_accuracy: 0.5655 - lr: 0.0100\n",
            "Epoch 23/100\n",
            "196/196 [==============================] - 1s 6ms/step - loss: 0.9704 - accuracy: 0.6582 - val_loss: 1.1797 - val_accuracy: 0.5902 - lr: 0.0100\n",
            "Epoch 24/100\n",
            "196/196 [==============================] - 1s 6ms/step - loss: 0.9549 - accuracy: 0.6603 - val_loss: 1.1808 - val_accuracy: 0.5896 - lr: 0.0100\n",
            "Epoch 25/100\n",
            "196/196 [==============================] - 1s 6ms/step - loss: 0.9477 - accuracy: 0.6627 - val_loss: 1.1735 - val_accuracy: 0.5962 - lr: 0.0100\n",
            "Epoch 26/100\n",
            "196/196 [==============================] - 1s 6ms/step - loss: 0.9201 - accuracy: 0.6732 - val_loss: 1.1853 - val_accuracy: 0.5839 - lr: 0.0100\n",
            "Epoch 27/100\n",
            "196/196 [==============================] - 1s 6ms/step - loss: 0.9056 - accuracy: 0.6775 - val_loss: 1.1823 - val_accuracy: 0.5848 - lr: 0.0100\n",
            "Epoch 28/100\n",
            "192/196 [============================>.] - ETA: 0s - loss: 0.8920 - accuracy: 0.6842\n",
            "Epoch 00028: ReduceLROnPlateau reducing learning rate to 0.0009999999776482583.\n",
            "196/196 [==============================] - 1s 6ms/step - loss: 0.8916 - accuracy: 0.6844 - val_loss: 1.1919 - val_accuracy: 0.5900 - lr: 0.0100\n",
            "Epoch 29/100\n",
            "196/196 [==============================] - 1s 6ms/step - loss: 0.8244 - accuracy: 0.7106 - val_loss: 1.1493 - val_accuracy: 0.6091 - lr: 1.0000e-03\n",
            "Epoch 30/100\n",
            "196/196 [==============================] - 1s 6ms/step - loss: 0.7756 - accuracy: 0.7278 - val_loss: 1.1461 - val_accuracy: 0.6123 - lr: 1.0000e-03\n",
            "Epoch 31/100\n",
            "196/196 [==============================] - 1s 6ms/step - loss: 0.7685 - accuracy: 0.7305 - val_loss: 1.1501 - val_accuracy: 0.6097 - lr: 1.0000e-03\n",
            "Epoch 32/100\n",
            "196/196 [==============================] - 1s 6ms/step - loss: 0.7633 - accuracy: 0.7333 - val_loss: 1.1557 - val_accuracy: 0.6094 - lr: 1.0000e-03\n",
            "Epoch 33/100\n",
            "186/196 [===========================>..] - ETA: 0s - loss: 0.7598 - accuracy: 0.7345\n",
            "Epoch 00033: ReduceLROnPlateau reducing learning rate to 9.999999310821295e-05.\n",
            "196/196 [==============================] - 1s 6ms/step - loss: 0.7603 - accuracy: 0.7343 - val_loss: 1.1553 - val_accuracy: 0.6091 - lr: 1.0000e-03\n",
            "Epoch 34/100\n",
            "196/196 [==============================] - 1s 6ms/step - loss: 0.7479 - accuracy: 0.7386 - val_loss: 1.1529 - val_accuracy: 0.6099 - lr: 1.0000e-04\n",
            "Epoch 35/100\n",
            "196/196 [==============================] - 1s 6ms/step - loss: 0.7451 - accuracy: 0.7395 - val_loss: 1.1533 - val_accuracy: 0.6104 - lr: 1.0000e-04\n",
            "Epoch 36/100\n",
            "192/196 [============================>.] - ETA: 0s - loss: 0.7449 - accuracy: 0.7397\n",
            "Epoch 00036: ReduceLROnPlateau reducing learning rate to 1e-05.\n",
            "196/196 [==============================] - 1s 6ms/step - loss: 0.7443 - accuracy: 0.7402 - val_loss: 1.1551 - val_accuracy: 0.6106 - lr: 1.0000e-04\n",
            "Epoch 37/100\n",
            "196/196 [==============================] - 1s 6ms/step - loss: 0.7432 - accuracy: 0.7405 - val_loss: 1.1545 - val_accuracy: 0.6105 - lr: 1.0000e-05\n",
            "Epoch 38/100\n",
            "196/196 [==============================] - 1s 6ms/step - loss: 0.7426 - accuracy: 0.7404 - val_loss: 1.1544 - val_accuracy: 0.6102 - lr: 1.0000e-05\n",
            "Epoch 39/100\n",
            "196/196 [==============================] - 1s 6ms/step - loss: 0.7425 - accuracy: 0.7406 - val_loss: 1.1544 - val_accuracy: 0.6101 - lr: 1.0000e-05\n",
            "Epoch 40/100\n",
            "196/196 [==============================] - 1s 6ms/step - loss: 0.7424 - accuracy: 0.7407 - val_loss: 1.1543 - val_accuracy: 0.6101 - lr: 1.0000e-05\n",
            "Epoch 00040: early stopping\n"
          ],
          "name": "stdout"
        }
      ]
    },
    {
      "cell_type": "markdown",
      "metadata": {
        "id": "IxLviuaF-4_a"
      },
      "source": [
        "# Evaluate the model\n",
        "\n",
        "> Calculate the accuracy in test set"
      ]
    },
    {
      "cell_type": "code",
      "metadata": {
        "id": "Ac6lj-N4-ELb",
        "colab": {
          "base_uri": "https://localhost:8080/",
          "height": 34
        },
        "outputId": "7f2ddd14-4f86-4385-a27c-91a369c5d6a1"
      },
      "source": [
        "scores = model.evaluate(X_test, y_test)"
      ],
      "execution_count": null,
      "outputs": [
        {
          "output_type": "stream",
          "text": [
            "313/313 [==============================] - 1s 3ms/step - loss: 1.1543 - accuracy: 0.6101\n"
          ],
          "name": "stdout"
        }
      ]
    },
    {
      "cell_type": "markdown",
      "metadata": {
        "id": "_Lr9jU0H_HLP"
      },
      "source": [
        "# Predict the classes\n"
      ]
    },
    {
      "cell_type": "markdown",
      "metadata": {
        "id": "PX9FbUBn_JmY"
      },
      "source": [
        "> See the probabilities"
      ]
    },
    {
      "cell_type": "code",
      "metadata": {
        "id": "zA4TQks9_F6P",
        "colab": {
          "base_uri": "https://localhost:8080/",
          "height": 246
        },
        "outputId": "9b48f9cc-f5d5-4b86-9015-0e46595945bb"
      },
      "source": [
        "y_pred = model.predict(X_test)\n",
        "y_pred"
      ],
      "execution_count": null,
      "outputs": [
        {
          "output_type": "execute_result",
          "data": {
            "text/plain": [
              "array([[1.8090395e-02, 1.3604401e-04, 5.3694728e-03, ..., 1.8315410e-02,\n",
              "        1.2441990e-03, 2.0329389e-04],\n",
              "       [1.6325528e-02, 9.2170048e-01, 1.8382534e-05, ..., 1.8751872e-07,\n",
              "        5.6986537e-02, 4.9642902e-03],\n",
              "       [6.5404043e-02, 1.9162193e-01, 8.9519315e-05, ..., 1.3339534e-04,\n",
              "        6.0473168e-01, 1.3727663e-01],\n",
              "       ...,\n",
              "       [4.1577852e-04, 1.4021942e-05, 1.0387626e-01, ..., 6.0994448e-03,\n",
              "        1.7628865e-05, 7.9191603e-05],\n",
              "       [1.1660327e-01, 1.7562295e-01, 8.1836149e-02, ..., 8.1800446e-03,\n",
              "        1.7928813e-02, 5.9174676e-03],\n",
              "       [1.6703245e-05, 5.7736866e-06, 1.5916337e-03, ..., 9.5623708e-01,\n",
              "        7.7902189e-07, 3.3516470e-05]], dtype=float32)"
            ]
          },
          "metadata": {
            "tags": []
          },
          "execution_count": 16
        }
      ]
    },
    {
      "cell_type": "markdown",
      "metadata": {
        "id": "JDDS9U4kB_Ce"
      },
      "source": [
        "change y to the original values"
      ]
    },
    {
      "cell_type": "code",
      "metadata": {
        "id": "YVLIGfbOBbNi",
        "colab": {
          "base_uri": "https://localhost:8080/",
          "height": 34
        },
        "outputId": "0d498872-0184-4756-d758-7dcd5d405717"
      },
      "source": [
        "y_test = np.argmax( y_test, axis = 1 )\n",
        "y_pred = np.argmax( y_pred, axis = 1 )\n",
        "print( y_test, y_pred)"
      ],
      "execution_count": null,
      "outputs": [
        {
          "output_type": "stream",
          "text": [
            "[3 8 8 ... 5 1 7] [5 1 8 ... 5 4 7]\n"
          ],
          "name": "stdout"
        }
      ]
    },
    {
      "cell_type": "code",
      "metadata": {
        "id": "XzGxAdZ3DluI",
        "colab": {
          "base_uri": "https://localhost:8080/",
          "height": 316
        },
        "outputId": "58f92877-5276-4139-83d4-917a63a6b297"
      },
      "source": [
        "print(classification_report(y_test, y_pred))"
      ],
      "execution_count": null,
      "outputs": [
        {
          "output_type": "stream",
          "text": [
            "              precision    recall  f1-score   support\n",
            "\n",
            "           0       0.67      0.67      0.67      1000\n",
            "           1       0.70      0.73      0.72      1000\n",
            "           2       0.51      0.49      0.50      1000\n",
            "           3       0.43      0.41      0.42      1000\n",
            "           4       0.56      0.55      0.55      1000\n",
            "           5       0.50      0.49      0.50      1000\n",
            "           6       0.68      0.70      0.69      1000\n",
            "           7       0.68      0.68      0.68      1000\n",
            "           8       0.70      0.72      0.71      1000\n",
            "           9       0.65      0.66      0.66      1000\n",
            "\n",
            "    accuracy                           0.61     10000\n",
            "   macro avg       0.61      0.61      0.61     10000\n",
            "weighted avg       0.61      0.61      0.61     10000\n",
            "\n"
          ],
          "name": "stdout"
        }
      ]
    },
    {
      "cell_type": "markdown",
      "metadata": {
        "id": "vbqMw2MEDsvd"
      },
      "source": [
        "Generate confusion matrix"
      ]
    },
    {
      "cell_type": "code",
      "metadata": {
        "id": "MnP-pBQnDooV",
        "colab": {
          "base_uri": "https://localhost:8080/",
          "height": 193
        },
        "outputId": "4f05599e-e070-40ca-9bde-ad3d103f0729"
      },
      "source": [
        "cm = confusion_matrix(y_test, y_pred)\n",
        "print(cm)"
      ],
      "execution_count": null,
      "outputs": [
        {
          "output_type": "stream",
          "text": [
            "[[671  40  45  16  26  10  16  12 114  50]\n",
            " [ 41 729   5  15  12   6  12   3  44 133]\n",
            " [ 61  11 488  76 109  90  69  56  22  18]\n",
            " [ 27  14  84 412  77 202  82  51  15  36]\n",
            " [ 26   8 112  65 548  53  75  84  18  11]\n",
            " [ 15   8  88 208  59 494  37  62  13  16]\n",
            " [ 12  18  61  69  59  41 699  16  11  14]\n",
            " [ 14   7  38  53  82  75  11 678  14  28]\n",
            " [ 96  60  19  17   7  15  13   4 719  50]\n",
            " [ 42 142  13  26   8   9  12  27  58 663]]\n"
          ],
          "name": "stdout"
        }
      ]
    },
    {
      "cell_type": "code",
      "metadata": {
        "id": "9IjgMG5ADx__",
        "colab": {
          "base_uri": "https://localhost:8080/",
          "height": 530
        },
        "outputId": "a8594c89-815e-4655-e3da-49067f0c7702"
      },
      "source": [
        "labels = ['airplane',\n",
        "          'automobile',\n",
        "          'bird',\n",
        "          'cat',\n",
        "          'deer',\n",
        "          'dog',\n",
        "          'frog',\n",
        "          'horse',\n",
        "          'ship',\n",
        "          'truck',\n",
        "          ]\n",
        "\n",
        "plt.subplots( figsize = ( 12, 8 ) )\n",
        "sns.heatmap( cm, cmap = 'YlGnBu', annot = True, fmt = 'd', cbar = False, xticklabels = labels, yticklabels = labels )\n",
        "plt.title( 'Confusion Matrix' ) \n",
        "plt.xlabel( 'Predict' )\n",
        "plt.ylabel( 'True' )"
      ],
      "execution_count": null,
      "outputs": [
        {
          "output_type": "execute_result",
          "data": {
            "text/plain": [
              "Text(87.0, 0.5, 'True')"
            ]
          },
          "metadata": {
            "tags": []
          },
          "execution_count": 20
        },
        {
          "output_type": "display_data",
          "data": {
            "image/png": "[encoded data removed]",
            "text/plain": [
              "<Figure size 864x576 with 1 Axes>"
            ]
          },
          "metadata": {
            "tags": [],
            "needs_background": "light"
          }
        }
      ]
    },
    {
      "cell_type": "code",
      "metadata": {
        "id": "4HnePx91EIOt"
      },
      "source": [
        ""
      ],
      "execution_count": null,
      "outputs": []
    }
  ]
}